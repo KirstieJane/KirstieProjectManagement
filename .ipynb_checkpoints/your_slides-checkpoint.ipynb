{
 "cells": [
  {
   "cell_type": "markdown",
   "metadata": {
    "slideshow": {
     "slide_type": "slide"
    }
   },
   "source": [
    "# Longitudinal analyses of UCHANGE data\n",
    "\n",
    "**Kirstie Whitaker**\n",
    "28th November 2016"
   ]
  },
  {
   "cell_type": "markdown",
   "metadata": {
    "collapsed": true,
    "slideshow": {
     "slide_type": "fragment"
    }
   },
   "source": [
    "I am another slide\n",
    "\n",
    "Written in Markdown"
   ]
  },
  {
   "cell_type": "code",
   "execution_count": 5,
   "metadata": {
    "collapsed": false,
    "slideshow": {
     "slide_type": "subslide"
    }
   },
   "outputs": [
    {
     "name": "stdout",
     "output_type": "stream",
     "text": [
      "          Mixed Linear Model Regression Results\n",
      "========================================================\n",
      "Model:            MixedLM Dependent Variable: Weight    \n",
      "No. Observations: 861     Method:             REML      \n",
      "No. Groups:       72      Scale:              11.3668   \n",
      "Min. group size:  11      Likelihood:         -2404.7753\n",
      "Max. group size:  12      Converged:          Yes       \n",
      "Mean group size:  12.0                                  \n",
      "--------------------------------------------------------\n",
      "             Coef.  Std.Err.    z    P>|z| [0.025 0.975]\n",
      "--------------------------------------------------------\n",
      "Intercept    15.724    0.788  19.952 0.000 14.180 17.269\n",
      "Time          6.942    0.033 207.939 0.000  6.877  7.008\n",
      "Intercept RE 40.399    2.166                            \n",
      "========================================================\n",
      "\n"
     ]
    }
   ],
   "source": [
    "import statsmodels.api as sm\n",
    "import statsmodels.formula.api as smf\n",
    "\n",
    "data = sm.datasets.get_rdataset('dietox', 'geepack').data\n",
    "\n",
    "md = smf.mixedlm('Weight ~ Time', data, groups=data['Pig'])\n",
    "mdf = md.fit()\n",
    "print(mdf.summary())\n"
   ]
  },
  {
   "cell_type": "code",
   "execution_count": 6,
   "metadata": {
    "collapsed": false,
    "slideshow": {
     "slide_type": "subslide"
    }
   },
   "outputs": [
    {
     "data": {
      "text/html": [
       "<div>\n",
       "<table border=\"1\" class=\"dataframe\">\n",
       "  <thead>\n",
       "    <tr style=\"text-align: right;\">\n",
       "      <th></th>\n",
       "      <th>Weight</th>\n",
       "      <th>Feed</th>\n",
       "      <th>Time</th>\n",
       "      <th>Pig</th>\n",
       "      <th>Evit</th>\n",
       "      <th>Cu</th>\n",
       "      <th>Litter</th>\n",
       "    </tr>\n",
       "  </thead>\n",
       "  <tbody>\n",
       "    <tr>\n",
       "      <th>0</th>\n",
       "      <td>26.50000</td>\n",
       "      <td>NaN</td>\n",
       "      <td>1</td>\n",
       "      <td>4601</td>\n",
       "      <td>1</td>\n",
       "      <td>1</td>\n",
       "      <td>1</td>\n",
       "    </tr>\n",
       "    <tr>\n",
       "      <th>1</th>\n",
       "      <td>27.59999</td>\n",
       "      <td>5.200005</td>\n",
       "      <td>2</td>\n",
       "      <td>4601</td>\n",
       "      <td>1</td>\n",
       "      <td>1</td>\n",
       "      <td>1</td>\n",
       "    </tr>\n",
       "    <tr>\n",
       "      <th>2</th>\n",
       "      <td>36.50000</td>\n",
       "      <td>17.600000</td>\n",
       "      <td>3</td>\n",
       "      <td>4601</td>\n",
       "      <td>1</td>\n",
       "      <td>1</td>\n",
       "      <td>1</td>\n",
       "    </tr>\n",
       "    <tr>\n",
       "      <th>3</th>\n",
       "      <td>40.29999</td>\n",
       "      <td>28.500000</td>\n",
       "      <td>4</td>\n",
       "      <td>4601</td>\n",
       "      <td>1</td>\n",
       "      <td>1</td>\n",
       "      <td>1</td>\n",
       "    </tr>\n",
       "    <tr>\n",
       "      <th>4</th>\n",
       "      <td>49.09998</td>\n",
       "      <td>45.200001</td>\n",
       "      <td>5</td>\n",
       "      <td>4601</td>\n",
       "      <td>1</td>\n",
       "      <td>1</td>\n",
       "      <td>1</td>\n",
       "    </tr>\n",
       "  </tbody>\n",
       "</table>\n",
       "</div>"
      ],
      "text/plain": [
       "     Weight       Feed  Time   Pig  Evit  Cu  Litter\n",
       "0  26.50000        NaN     1  4601     1   1       1\n",
       "1  27.59999   5.200005     2  4601     1   1       1\n",
       "2  36.50000  17.600000     3  4601     1   1       1\n",
       "3  40.29999  28.500000     4  4601     1   1       1\n",
       "4  49.09998  45.200001     5  4601     1   1       1"
      ]
     },
     "execution_count": 6,
     "metadata": {},
     "output_type": "execute_result"
    }
   ],
   "source": [
    "data.head()"
   ]
  },
  {
   "cell_type": "code",
   "execution_count": null,
   "metadata": {
    "collapsed": true
   },
   "outputs": [],
   "source": []
  }
 ],
 "metadata": {
  "celltoolbar": "Slideshow",
  "kernelspec": {
   "display_name": "Python 2",
   "language": "python",
   "name": "python2"
  },
  "language_info": {
   "codemirror_mode": {
    "name": "ipython",
    "version": 2
   },
   "file_extension": ".py",
   "mimetype": "text/x-python",
   "name": "python",
   "nbconvert_exporter": "python",
   "pygments_lexer": "ipython2",
   "version": "2.7.10"
  }
 },
 "nbformat": 4,
 "nbformat_minor": 0
}
